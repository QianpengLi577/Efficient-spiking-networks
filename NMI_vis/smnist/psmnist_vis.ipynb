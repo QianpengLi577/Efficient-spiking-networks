{
 "cells": [
  {
   "cell_type": "code",
   "execution_count": 1,
   "metadata": {},
   "outputs": [
    {
     "name": "stdout",
     "output_type": "stream",
     "text": [
      "Populating the interactive namespace from numpy and matplotlib\n"
     ]
    }
   ],
   "source": [
    "%pylab inline"
   ]
  },
  {
   "cell_type": "code",
   "execution_count": 5,
   "metadata": {},
   "outputs": [],
   "source": [
    "import torch\n",
    "import torch.nn as nn\n",
    "import torchvision.transforms as transforms\n",
    "import torchvision.datasets as dsets\n",
    "import torch.nn.functional as F\n",
    "import numpy as np\n",
    "from torch.autograd import Variable\n",
    "from torch.optim.lr_scheduler import StepLR,MultiStepLR,LambdaLR\n",
    "import math\n",
    "import keras\n",
    "from torch.utils import data\n",
    "import matplotlib.pyplot as plt\n",
    "from datetime import datetime\n",
    "from tqdm import tqdm\n",
    "\n",
    "torch.manual_seed(0)\n",
    "def load_dataset(task='smnist'):\n",
    "    if task == 'smnist':\n",
    "        (X_train, y_train), (X_test, y_test) = keras.datasets.mnist.load_data()\n",
    "    elif task == 'psmnist':\n",
    "        X_train = np.load('./ps_data/ps_X_train.npy')\n",
    "        X_test = np.load('./ps_data/ps_X_test.npy')\n",
    "        y_train = np.load('./ps_data/Y_train.npy')\n",
    "        y_test = np.load('./ps_data/Y_test.npy')\n",
    "    else:\n",
    "        print('only two task, -- smnist and psmnist')\n",
    "        return 0\n",
    "    X_train = torch.from_numpy(X_train).float()\n",
    "    X_test = torch.from_numpy(X_test).float()\n",
    "    y_train = torch.from_numpy(y_train).long()\n",
    "    y_test = torch.from_numpy(y_test).long()\n",
    "    train_dataset = data.TensorDataset(X_train,y_train) # create train datset\n",
    "    test_dataset = data.TensorDataset(X_test,y_test) # create test datset\n",
    "\n",
    "    return train_dataset,test_dataset\n",
    "\n",
    "'''\n",
    "STEP 3a_v2: CREATE Adaptative spike MODEL CLASS\n",
    "'''\n",
    "b_j0 = 0.01  # neural threshold baseline\n",
    "tau_m = 20  # ms membrane potential constant\n",
    "R_m = 1  # membrane resistance\n",
    "dt = 1  #\n",
    "gamma = .5  # gradient scale\n",
    "lens = 0.5\n",
    "\n",
    "def gaussian(x, mu=0., sigma=.5):\n",
    "    return torch.exp(-((x - mu) ** 2) / (2 * sigma ** 2)) / torch.sqrt(2 * torch.tensor(math.pi)) / sigma\n",
    "\n",
    "\n",
    "class ActFun_adp(torch.autograd.Function):\n",
    "    @staticmethod\n",
    "    def forward(ctx, input):  # input = membrane potential- threshold\n",
    "        ctx.save_for_backward(input)\n",
    "        return input.gt(0).float()  # is firing ???\n",
    "\n",
    "    @staticmethod\n",
    "    def backward(ctx, grad_output):  # approximate the gradients\n",
    "        input, = ctx.saved_tensors\n",
    "        grad_input = grad_output.clone()\n",
    "        # temp = abs(input) < lens\n",
    "        scale = 6.0\n",
    "        hight = .15\n",
    "        #temp = torch.exp(-(input**2)/(2*lens**2))/torch.sqrt(2*torch.tensor(math.pi))/lens\n",
    "        temp = gaussian(input, mu=0., sigma=lens) * (1. + hight) \\\n",
    "               - gaussian(input, mu=lens, sigma=scale * lens) * hight \\\n",
    "               - gaussian(input, mu=-lens, sigma=scale * lens) * hight\n",
    "        # temp =  gaussian(input, mu=0., sigma=lens)\n",
    "        # temp = F.relu(1-input.abs()) 93.53\n",
    "        # temp = torch.exp(-5*input.abs())\n",
    "        return grad_input * temp.float() * gamma\n",
    "\n",
    "\n",
    "act_fun_adp = ActFun_adp.apply\n",
    "\n",
    "\n",
    "\n",
    "def mem_update_adp(inputs, mem, spike, tau_adp,tau_m, b, dt=1, isAdapt=1):\n",
    "    #     tau_adp = torch.FloatTensor([tau_adp])\n",
    "    alpha = torch.exp(-1. * dt / tau_m).cuda()\n",
    "    ro = torch.exp(-1. * dt / tau_adp).cuda()\n",
    "    # tau_adp is tau_adaptative which is learnable # add requiregredients\n",
    "    if isAdapt:\n",
    "        beta = 1.8\n",
    "    else:\n",
    "        beta = 0.\n",
    "\n",
    "    b = ro * b + (1 - ro) * spike\n",
    "    B = b_j0 + beta * b\n",
    "\n",
    "    mem = mem * alpha + (1 - alpha) * R_m * inputs - B * spike * dt\n",
    "    inputs_ = mem - B\n",
    "    spike = act_fun_adp(inputs_)  # act_fun : approximation firing function\n",
    "    # spike = F.relu(inputs_)\n",
    "    return mem, spike, B, b\n",
    "\n",
    "def output_Neuron(inputs, mem, tau_m, dt=1):\n",
    "    \"\"\"\n",
    "    The read out neuron is leaky integrator without spike\n",
    "    \"\"\"\n",
    "    # alpha = torch.exp(-1. * dt / torch.FloatTensor([30.])).cuda()\n",
    "    alpha = torch.exp(-1. * dt / tau_m).cuda()\n",
    "    mem = mem * alpha + (1. - alpha) * R_m * inputs\n",
    "    return mem\n",
    "\n",
    "'''\n",
    "STEP 3b: CREATE MODEL CLASS\n",
    "'''\n",
    "\n",
    "\n",
    "class RNN_custom(nn.Module):\n",
    "    def __init__(self, input_size, stride, hidden_dims, output_size,DC_f='mem'):\n",
    "        super(RNN_custom, self).__init__()\n",
    "\n",
    "        self.DC_f = DC_f\n",
    "        self.b_j0 = b_j0\n",
    "        self.stride = stride\n",
    "        self.input_size = input_size\n",
    "        self.output_size = output_size\n",
    "        self.criterion = nn.CrossEntropyLoss()\n",
    "    \n",
    "        self.r1_dim = hidden_dims[0]\n",
    "        self.r2_dim = hidden_dims[1]\n",
    "        self.d1_dim = hidden_dims[2]\n",
    "        self.i2h = nn.Linear(input_size, self.r1_dim)\n",
    "        self.h2h = nn.Linear(self.r1_dim, self.r1_dim)\n",
    "        self.h2d = nn.Linear(self.r1_dim, self.r2_dim)\n",
    "        self.d2d = nn.Linear(self.r2_dim, self.r2_dim)\n",
    "        self.dense1 = nn.Linear(self.r2_dim, self.d1_dim)\n",
    "        self.d2o = nn.Linear(self.d1_dim, self.output_size)\n",
    "\n",
    "        self.tau_adp_r1 = nn.Parameter(torch.Tensor(self.r1_dim))\n",
    "        self.tau_adp_r2 = nn.Parameter(torch.Tensor(self.r2_dim))\n",
    "        self.tau_adp_d1 = nn.Parameter(torch.Tensor(self.d1_dim))\n",
    "        self.tau_adp_o = nn.Parameter(torch.Tensor(self.output_size))\n",
    "\n",
    "        self.tau_m_r1 = nn.Parameter(torch.Tensor(self.r1_dim))\n",
    "        self.tau_m_r2 = nn.Parameter(torch.Tensor(self.r2_dim))\n",
    "        self.tau_m_d1 = nn.Parameter(torch.Tensor(self.d1_dim))\n",
    "        self.tau_m_o = nn.Parameter(torch.Tensor(self.output_size))\n",
    " \n",
    "        # nn.init.orthogonal_(self.h2h.weight)\n",
    "        nn.init.zeros_(self.h2h.weight)\n",
    "        nn.init.xavier_uniform_(self.i2h.weight)\n",
    "        nn.init.xavier_uniform_(self.h2d.weight)\n",
    "        # nn.init.orthogonal_(self.d2d.weight)\n",
    "        nn.init.zeros_(self.d2d.weight)\n",
    "        nn.init.xavier_uniform_(self.dense1.weight)\n",
    "        nn.init.xavier_uniform_(self.d2o.weight)\n",
    "        \n",
    "        nn.init.constant_(self.i2h.bias, 0)\n",
    "        nn.init.constant_(self.h2h.bias, 0)\n",
    "        nn.init.constant_(self.h2d.bias, 0)\n",
    "        nn.init.constant_(self.d2d.bias, 0)\n",
    "        nn.init.constant_(self.dense1.bias, 0)\n",
    "        nn.init.constant_(self.d2o.bias, 0)\n",
    "\n",
    "        # nn.init.normal_(self.tau_adp_r1, 700,25)\n",
    "        # nn.init.normal_(self.tau_adp_r2, 700,25)\n",
    "        # nn.init.normal_(self.tau_adp_o, 700,25)\n",
    "        # nn.init.normal_(self.tau_adp_d1, 700,25)\n",
    "        \n",
    "        nn.init.normal_(self.tau_adp_r1, 200,25)\n",
    "        nn.init.normal_(self.tau_adp_r2, 200,25)\n",
    "        nn.init.normal_(self.tau_adp_o, 200,25)\n",
    "        nn.init.normal_(self.tau_adp_d1, 200,25)\n",
    "\n",
    "        nn.init.normal_(self.tau_m_r1, 20,5)\n",
    "        nn.init.normal_(self.tau_m_r2, 20,5)\n",
    "        nn.init.normal_(self.tau_m_o, 20,5)\n",
    "        nn.init.normal_(self.tau_m_d1, 20,5)\n",
    "\n",
    "        self.b_r1 =self.b_r2 = self.b_o  = self.b_d1  = 0\n",
    "    \n",
    "    def compute_input_steps(self,seq_num):\n",
    "        return int(seq_num/self.stride)\n",
    "\n",
    "    def forward(self, input):\n",
    "        batch_size, seq_num, input_dim = input.shape\n",
    "        self.b_r1 =self.b_r2 = self.b_o  = self.b_d1  = torch.tensor(b_j0)\n",
    "        \n",
    "        self.initial_neuron_states(batch_size)\n",
    "        \n",
    "        loss = 0\n",
    "        l1_spikes = []\n",
    "        l2_spikes = []\n",
    "        l3_spikes = []\n",
    "        l4_spikes = []\n",
    "        out_spikes = []\n",
    "        input = input/255.\n",
    "        input_steps  = self.compute_input_steps(seq_num)\n",
    "\n",
    "        for i in range(input_steps):\n",
    "            start_idx = i*self.stride\n",
    "            if start_idx < (seq_num - self.input_size):\n",
    "                input_x = input[:, start_idx:start_idx+self.input_size, :].reshape(-1,self.input_size)\n",
    "            else:\n",
    "                input_x = input[:, -self.input_size:, :].reshape(-1,self.input_size)\n",
    "            #print(input_x.shape)\n",
    "            h_input = self.i2h(input_x.float()) + self.h2h(self.r1_spike)\n",
    "            self.r1_mem, self.r1_spike, theta_r1, self.b_r1 = mem_update_adp(h_input,self.r1_mem, self.r1_spike, self.tau_adp_r1, self.tau_m_r1,self.b_r1)\n",
    "\n",
    "            d_input = self.h2d(self.r1_spike) + self.d2d(self.r2_spike)\n",
    "            self.r2_mem, self.r2_spike, theta_r2, self.b_r2 = mem_update_adp(d_input, self.r2_mem, self.r2_spike, self.tau_adp_r2,self.tau_m_r2, self.b_r2)\n",
    "\n",
    "            self.d1_mem, self.d1_spike, theta_d1, self.b_d1 = mem_update_adp(self.dense1(self.r2_spike), self.d1_mem, self.d1_spike, self.tau_adp_d1,self.tau_m_d1, self.b_d1)            \n",
    "\n",
    "            o_input = self.d2o(self.d1_spike)\n",
    "            if self.DC_f[:3]=='adp':\n",
    "                self.d2o_mem, self.d2o_spike, theta_o, self.b_o = mem_update_adp(o_input,self.d2o_mem, self.d2o_spike, self.tau_adp_o, self.tau_m_o, self.b_o)\n",
    "                \n",
    "            elif self.DC_f == 'integrator':\n",
    "                self.d2o_mem = output_Neuron(o_input,self.d2o_mem, self.tau_m_o)\n",
    "                \n",
    "            \n",
    "            \n",
    "            if i > 0: \n",
    "                if self.DC_f == 'adp-mem':\n",
    "                    self.output_sumspike = self.output_sumspike + F.softmax(self.d2o_mem,dim=1)\n",
    "                elif self.DC_f =='adp-spike':\n",
    "                    self.output_sumspike = self.output_sumspike + self.d2o_spike\n",
    "                elif self.DC_f =='integrator':\n",
    "                    self.output_sumspike =self.output_sumspike+ F.softmax(self.d2o_mem,dim=1)\n",
    "\n",
    "\n",
    "            l1_spikes.append(self.r1_spike.detach().cpu().numpy())\n",
    "            l2_spikes.append(self.r2_spike.detach().cpu().numpy())\n",
    "            l3_spikes.append(self.d1_spike.detach().cpu().numpy())\n",
    "            l4_spikes.append(self.d2o_spike.detach().cpu().numpy())\n",
    "            out_spikes.append(self.output_sumspike.detach().cpu().numpy())\n",
    "        return self.output_sumspike,  [l1_spikes,l2_spikes,l3_spikes,l4_spikes,out_spikes]\n",
    "    \n",
    "    def initial_neuron_states(self,batch_size):\n",
    "        self.r1_mem = self.r1_spike = torch.rand(batch_size, self.r1_dim).cuda()*self.b_j0\n",
    "        self.r2_mem = self.r2_spike = torch.rand(batch_size, self.r2_dim).cuda()*self.b_j0\n",
    "        self.d1_mem = self.d1_spike = torch.rand(batch_size, self.d1_dim).cuda()*self.b_j0\n",
    "        self.d2o_mem = torch.rand(batch_size, output_dim).cuda()*self.b_j0\n",
    "        self.d2o_spike = self.output_sumspike = torch.zeros(batch_size, output_dim).cuda()"
   ]
  },
  {
   "cell_type": "code",
   "execution_count": 6,
   "metadata": {},
   "outputs": [],
   "source": [
    "def test(model, dataloader):\n",
    "    correct = 0\n",
    "    total = 0\n",
    "    # Iterate through test dataset\n",
    "    for images, labels in dataloader:\n",
    "        images = images.view(-1, seq_dim, input_dim).to(device)\n",
    "\n",
    "        outputs, _ = model(images)\n",
    "        _, predicted = torch.max(outputs.data, 1)\n",
    "        total += labels.size(0)\n",
    "        if torch.cuda.is_available():\n",
    "            correct += (predicted.cpu() == labels.long().cpu()).sum()\n",
    "        else:\n",
    "            correct += (predicted == labels).sum()\n",
    "\n",
    "    accuracy = 100. * correct.numpy() / total\n",
    "    return accuracy\n"
   ]
  },
  {
   "cell_type": "code",
   "execution_count": 7,
   "metadata": {},
   "outputs": [
    {
     "name": "stdout",
     "output_type": "stream",
     "text": [
      "device: cuda:0\n"
     ]
    },
    {
     "data": {
      "text/plain": [
       "RNN_custom(\n",
       "  (criterion): CrossEntropyLoss()\n",
       "  (i2h): Linear(in_features=4, out_features=64, bias=True)\n",
       "  (h2h): Linear(in_features=64, out_features=64, bias=True)\n",
       "  (h2d): Linear(in_features=64, out_features=256, bias=True)\n",
       "  (d2d): Linear(in_features=256, out_features=256, bias=True)\n",
       "  (dense1): Linear(in_features=256, out_features=256, bias=True)\n",
       "  (d2o): Linear(in_features=256, out_features=10, bias=True)\n",
       ")"
      ]
     },
     "execution_count": 7,
     "metadata": {},
     "output_type": "execute_result"
    }
   ],
   "source": [
    "batch_size = 600\n",
    "task = 'psmnist'\n",
    "DC_f = 'adp-spike'\n",
    "\n",
    "train_dataset,test_dataset = load_dataset(task)\n",
    "train_loader = torch.utils.data.DataLoader(dataset=train_dataset,batch_size=batch_size,shuffle=True)\n",
    "test_loader = torch.utils.data.DataLoader(dataset=test_dataset,batch_size=batch_size,shuffle=True)\n",
    "\n",
    "\n",
    "input_dim = 1\n",
    "input_size=4\n",
    "stride = 1\n",
    "hidden_dims = [64,256,256]\n",
    "output_dim = 10\n",
    "seq_dim = int(784 / input_dim)  # Number of steps to unroll\n",
    "\n",
    "model = RNN_custom(input_size, stride,hidden_dims, output_dim,DC_f=DC_f)\n",
    "\n",
    "model = torch.load('./model/model_94.73_Task-psmnist||Time-07-12-2022 14:26:15||EC_f--rbf||DC_f--adp-spike||multiinput-multi_input.pth')\n",
    "device = torch.device(\"cuda:0\" if torch.cuda.is_available() else \"cpu\")\n",
    "print(\"device:\",device)\n",
    "model.to(device)"
   ]
  },
  {
   "cell_type": "code",
   "execution_count": 6,
   "metadata": {},
   "outputs": [
    {
     "name": "stdout",
     "output_type": "stream",
     "text": [
      "test Accuracy:  94.54\n"
     ]
    }
   ],
   "source": [
    "accuracy = test(model,test_loader)\n",
    "print('test Accuracy: ', accuracy)"
   ]
  },
  {
   "cell_type": "code",
   "execution_count": 7,
   "metadata": {},
   "outputs": [],
   "source": [
    "i = 0\n",
    "for images, labels in test_loader:\n",
    "    if i == 0:\n",
    "        i+=1   \n",
    "        images = images.view(-1, seq_dim, input_dim).to(device)\n",
    "\n",
    "        outputs, states = model(images)\n",
    "    else:\n",
    "        break"
   ]
  },
  {
   "cell_type": "code",
   "execution_count": 8,
   "metadata": {},
   "outputs": [],
   "source": [
    "r1_spike_np = np.array(states[0])\n",
    "r2_spike_np = np.array(states[1])\n",
    "d1_spike_np = np.array(states[2])\n",
    "d2_spike_np = np.array(states[3])"
   ]
  },
  {
   "cell_type": "code",
   "execution_count": 9,
   "metadata": {},
   "outputs": [
    {
     "data": {
      "text/plain": [
       "((784, 600, 64), (784, 600, 256), (784, 600, 256), (784, 600, 10))"
      ]
     },
     "execution_count": 9,
     "metadata": {},
     "output_type": "execute_result"
    }
   ],
   "source": [
    "r1_spike_np.shape,r2_spike_np.shape,d1_spike_np.shape,d2_spike_np.shape"
   ]
  },
  {
   "cell_type": "code",
   "execution_count": 10,
   "metadata": {},
   "outputs": [],
   "source": [
    "b = r1_spike_np.shape[1]\n",
    "spikes = np.zeros((784,b,64+256+256+10))\n",
    "spikes[:,:,:64] = r1_spike_np\n",
    "spikes[:,:,64:64+256]= r2_spike_np\n",
    "spikes[:,:,64+256:64+256+256] = d1_spike_np\n",
    "spikes[:,:,64+256+256:] = d2_spike_np"
   ]
  },
  {
   "cell_type": "code",
   "execution_count": 11,
   "metadata": {},
   "outputs": [
    {
     "data": {
      "text/plain": [
       "(0.11662056, 0.041681174, 0.014866212, 0.1813074, 0.040533994741241204)"
      ]
     },
     "execution_count": 11,
     "metadata": {},
     "output_type": "execute_result"
    }
   ],
   "source": [
    "np.mean(r1_spike_np),np.mean(r2_spike_np),np.mean(d1_spike_np),np.mean(d2_spike_np),np.mean(spikes)"
   ]
  },
  {
   "cell_type": "code",
   "execution_count": 12,
   "metadata": {},
   "outputs": [
    {
     "data": {
      "text/plain": [
       "<matplotlib.image.AxesImage at 0x7f6c00373430>"
      ]
     },
     "execution_count": 12,
     "metadata": {},
     "output_type": "execute_result"
    },
    {
     "data": {
      "image/png": "[encoded data removed]",
      "text/plain": [
       "<Figure size 432x288 with 1 Axes>"
      ]
     },
     "metadata": {
      "needs_background": "light"
     },
     "output_type": "display_data"
    }
   ],
   "source": [
    "plt.imshow(spikes[:,1,:].T)"
   ]
  },
  {
   "cell_type": "code",
   "execution_count": 13,
   "metadata": {},
   "outputs": [
    {
     "data": {
      "text/plain": [
       "<matplotlib.image.AxesImage at 0x7f6bfe2d6850>"
      ]
     },
     "execution_count": 13,
     "metadata": {},
     "output_type": "execute_result"
    },
    {
     "data": {
      "image/png": "[encoded data removed]",
      "text/plain": [
       "<Figure size 432x288 with 1 Axes>"
      ]
     },
     "metadata": {
      "needs_background": "light"
     },
     "output_type": "display_data"
    }
   ],
   "source": [
    "plt.imshow(d2_spike_np[:,1,:].T)"
   ]
  },
  {
   "cell_type": "code",
   "execution_count": 14,
   "metadata": {},
   "outputs": [],
   "source": [
    "spike_count = {'total':[],'fr':[],'per step':[]}\n",
    "for images, labels in test_loader: \n",
    "    images = images.view(-1, seq_dim, input_dim).to(device)\n",
    "    outputs, states = model(images)\n",
    "\n",
    "    r1_spike_np = np.array(states[0])\n",
    "    r2_spike_np = np.array(states[1])\n",
    "    d1_spike_np = np.array(states[2])\n",
    "    d2_spike_np = np.array(states[3])\n",
    "    b = r1_spike_np.shape[1]\n",
    "    spikes = np.zeros((784,b,64+256+256+10))\n",
    "    spikes[:,:,:64] = r1_spike_np\n",
    "    spikes[:,:,64:64+256]= r2_spike_np\n",
    "    spikes[:,:,64+256:64+256+256] = d1_spike_np\n",
    "    spikes[:,:,64+256+256:] = d2_spike_np\n",
    "\n",
    "    spike_count['total'].append([np.mean(np.sum(spikes,axis=(0,2))),np.max(np.sum(spikes,axis=(0,2))),np.min(np.sum(spikes,axis=(0,2)))])\n",
    "    spike_count['per step'].append([np.mean(np.sum(spikes,axis=(2))),np.max(np.sum(spikes,axis=(2))),np.min(np.sum(spikes,axis=(2)))])\n",
    "    spike_count['fr'].append(np.mean(spikes))"
   ]
  },
  {
   "cell_type": "code",
   "execution_count": 15,
   "metadata": {},
   "outputs": [
    {
     "data": {
      "text/plain": [
       "(18595.030555555557, 19969.0, 16490.0)"
      ]
     },
     "execution_count": 15,
     "metadata": {},
     "output_type": "execute_result"
    }
   ],
   "source": [
    "spike_total = np.array(spike_count['total'])\n",
    "np.mean(spike_total[0]),np.max(spike_total[1]),np.min(spike_total[2])"
   ]
  },
  {
   "cell_type": "code",
   "execution_count": 16,
   "metadata": {},
   "outputs": [
    {
     "data": {
      "text/plain": [
       "(53.600379109977325, 136.0, 0.0)"
      ]
     },
     "execution_count": 16,
     "metadata": {},
     "output_type": "execute_result"
    }
   ],
   "source": [
    "spike_per = np.array(spike_count['per step'])\n",
    "np.mean(spike_per[0]),np.max(spike_per[1]),np.min(spike_per[2])"
   ]
  },
  {
   "cell_type": "code",
   "execution_count": 17,
   "metadata": {},
   "outputs": [
    {
     "data": {
      "text/plain": [
       "0.04061627530705115"
      ]
     },
     "execution_count": 17,
     "metadata": {},
     "output_type": "execute_result"
    }
   ],
   "source": [
    "spike_fr = np.array(spike_count['fr'])\n",
    "np.mean(spike_fr[0])"
   ]
  },
  {
   "cell_type": "code",
   "execution_count": 18,
   "metadata": {},
   "outputs": [
    {
     "data": {
      "text/plain": [
       "Text(0.5, 1.0, '$\\\\tau_{adp}$')"
      ]
     },
     "execution_count": 18,
     "metadata": {},
     "output_type": "execute_result"
    },
    {
     "data": {
      "image/png": "[encoded data removed]",
      "text/plain": [
       "<Figure size 432x288 with 1 Axes>"
      ]
     },
     "metadata": {
      "needs_background": "light"
     },
     "output_type": "display_data"
    }
   ],
   "source": [
    "plt.hist(model.tau_adp_d1.detach().cpu().numpy(),bins=20,alpha=0.7,label='trained')\n",
    "plt.plot([200,200],[0,50.],label='pre-train')\n",
    "plt.legend()\n",
    "plt.ylim([0,45])\n",
    "plt.ylabel('Freq')\n",
    "plt.title(r\"$\\tau_{adp}$\")\n",
    "# plt.savefig('tau_adp_d1.svg',dpi=300)"
   ]
  },
  {
   "cell_type": "code",
   "execution_count": 19,
   "metadata": {},
   "outputs": [
    {
     "data": {
      "text/plain": [
       "Text(0.5, 1.0, '$\\\\tau_{m}$')"
      ]
     },
     "execution_count": 19,
     "metadata": {},
     "output_type": "execute_result"
    },
    {
     "data": {
      "image/png": "[encoded data removed]",
      "text/plain": [
       "<Figure size 432x288 with 1 Axes>"
      ]
     },
     "metadata": {
      "needs_background": "light"
     },
     "output_type": "display_data"
    }
   ],
   "source": [
    "plt.hist(model.tau_m_d1.detach().cpu().numpy(),bins=20,alpha=0.7,label='trained')\n",
    "plt.plot([20,20],[0,40],label='pre-train')\n",
    "plt.legend()\n",
    "plt.ylim([0,35])\n",
    "plt.ylabel('Freq')\n",
    "plt.title(r\"$\\tau_{m}$\")\n",
    "# plt.savefig('tau_m_d1.svg',dpi=300)"
   ]
  },
  {
   "cell_type": "code",
   "execution_count": 20,
   "metadata": {},
   "outputs": [],
   "source": [
    "test_acc_classes = np.zeros((10,784))\n",
    "test_acc_count = np.zeros((10,1))\n",
    "\n",
    "for images, labels in test_loader: \n",
    "    images = images.view(-1, seq_dim, input_dim).to(device)\n",
    "    outputs, states = model(images)\n",
    "\n",
    "    output_stream = np.array(states[4])\n",
    "    pred = np.argmax(output_stream,axis=2)\n",
    "    labels = labels.cpu().numpy()\n",
    "    b = len(labels)\n",
    "    # print(b,pred.shape,labels.shape)\n",
    "    labels_ = np.repeat(labels.reshape(1,b),784,axis=0)\n",
    "    f_test = (pred==labels_)*1.\n",
    "    # print(f_test.shape)\n",
    "\n",
    "    for i in range(b):\n",
    "        tmp = labels_[0,i]\n",
    "        test_acc_classes[int(tmp),:] += f_test[:,i]\n",
    "        test_acc_count[int(tmp)] += 1\n"
   ]
  },
  {
   "cell_type": "code",
   "execution_count": 21,
   "metadata": {},
   "outputs": [],
   "source": [
    "\n",
    "test_s = test_acc_classes/test_acc_count\n"
   ]
  },
  {
   "cell_type": "code",
   "execution_count": 22,
   "metadata": {},
   "outputs": [
    {
     "data": {
      "text/plain": [
       "(10, 784)"
      ]
     },
     "execution_count": 22,
     "metadata": {},
     "output_type": "execute_result"
    }
   ],
   "source": [
    "test_s.shape"
   ]
  },
  {
   "cell_type": "code",
   "execution_count": 23,
   "metadata": {},
   "outputs": [
    {
     "data": {
      "image/png": "[encoded data removed]",
      "text/plain": [
       "<Figure size 720x360 with 1 Axes>"
      ]
     },
     "metadata": {
      "needs_background": "light"
     },
     "output_type": "display_data"
    }
   ],
   "source": [
    "plt.figure(figsize=(10,5))\n",
    "for i in range(10):\n",
    "    plt.plot(test_s[i,:],label=str(i))\n",
    "plt.ylabel('Accuracy')\n",
    "plt.xlabel('Time steps')\n",
    "plt.legend()\n",
    "plt.savefig('psmnist_evo.svg',dpi=300)"
   ]
  },
  {
   "cell_type": "code",
   "execution_count": null,
   "metadata": {},
   "outputs": [],
   "source": []
  }
 ],
 "metadata": {
  "kernelspec": {
   "display_name": "Python 3.8.10 64-bit",
   "language": "python",
   "name": "python3"
  },
  "language_info": {
   "codemirror_mode": {
    "name": "ipython",
    "version": 3
   },
   "file_extension": ".py",
   "mimetype": "text/x-python",
   "name": "python",
   "nbconvert_exporter": "python",
   "pygments_lexer": "ipython3",
   "version": "3.8.10"
  },
  "orig_nbformat": 2,
  "vscode": {
   "interpreter": {
    "hash": "e7370f93d1d0cde622a1f8e1c04877d8463912d04d973331ad4851f04de6915a"
   }
  }
 },
 "nbformat": 4,
 "nbformat_minor": 2
}
